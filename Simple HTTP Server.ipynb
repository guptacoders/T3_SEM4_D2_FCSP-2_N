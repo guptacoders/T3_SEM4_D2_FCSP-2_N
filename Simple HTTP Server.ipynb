{
 "cells": [
  {
   "cell_type": "markdown",
   "metadata": {},
   "source": [
    "# Simple HTTP Server"
   ]
  },
  {
   "cell_type": "code",
   "execution_count": null,
   "metadata": {},
   "outputs": [
    {
     "name": "stdout",
     "output_type": "stream",
     "text": [
      "Access http://localhost:8000\n",
      "GET / HTTP/1.1\n",
      "Host: localhost:8000\n",
      "Connection: keep-alive\n",
      "sec-ch-ua: \"Chromium\";v=\"136\", \"Google Chrome\";v=\"136\", \"Not.A/Brand\";v=\"99\"\n",
      "sec-ch-ua-mobile: ?0\n",
      "sec-ch-ua-platform: \"Windows\"\n",
      "Upgrade-Insecure-Requests: 1\n",
      "User-Agent: Mozilla/5.0 (Windows NT 10.0; Win64; x64) AppleWebKit/537.36 (KHTML, like Gecko) Chrome/136.0.0.0 Safari/537.36\n",
      "Accept: text/html,application/xhtml+xml,application/xml;q=0.9,image/avif,image/webp,image/apng,*/*;q=0.8,application/signed-exchange;v=b3;q=0.7\n",
      "Sec-Fetch-Site: same-site\n",
      "Sec-Fetch-Mode: navigate\n",
      "Sec-Fetch-User: ?1\n",
      "Sec-Fetch-Dest: document\n",
      "Referer: http://localhost:8888/\n",
      "Accept-Encoding: gzip, deflate, br, zstd\n",
      "Accept-Language: en-US,en;q=0.9\n",
      "Cookie: _xsrf=2|47075ea8|01a1b9c25340ea5934e2747297100a71|1746166165; username-localhost-8888=\"2|1:0|10:1748402371|23:username-localhost-8888|44:ZWI1ZTViZmM3ODU0NGQwOTlkZWViYmQ1ZThhOTk5Yjg=|d959725bab9ca25941d8820b311f95b1c7435d2970adb8798ddd2cff9493226f\"\n",
      "\n",
      "\n",
      "GET /favicon.ico HTTP/1.1\n",
      "Host: localhost:8000\n",
      "Connection: keep-alive\n",
      "sec-ch-ua-platform: \"Windows\"\n",
      "User-Agent: Mozilla/5.0 (Windows NT 10.0; Win64; x64) AppleWebKit/537.36 (KHTML, like Gecko) Chrome/136.0.0.0 Safari/537.36\n",
      "sec-ch-ua: \"Chromium\";v=\"136\", \"Google Chrome\";v=\"136\", \"Not.A/Brand\";v=\"99\"\n",
      "sec-ch-ua-mobile: ?0\n",
      "Accept: image/avif,image/webp,image/apng,image/svg+xml,image/*,*/*;q=0.8\n",
      "Sec-Fetch-Site: same-origin\n",
      "Sec-Fetch-Mode: no-cors\n",
      "Sec-Fetch-Dest: image\n",
      "Referer: http://localhost:8000/\n",
      "Accept-Encoding: gzip, deflate, br, zstd\n",
      "Accept-Language: en-US,en;q=0.9\n",
      "Cookie: _xsrf=2|47075ea8|01a1b9c25340ea5934e2747297100a71|1746166165; username-localhost-8888=\"2|1:0|10:1748402371|23:username-localhost-8888|44:ZWI1ZTViZmM3ODU0NGQwOTlkZWViYmQ1ZThhOTk5Yjg=|d959725bab9ca25941d8820b311f95b1c7435d2970adb8798ddd2cff9493226f\"\n",
      "\n",
      "\n",
      "\n"
     ]
    }
   ],
   "source": [
    "import socket\n",
    "\n",
    "def createserver():\n",
    "    host = 'localhost'  # or socket.gethostname() or \" \" or ip address\n",
    "    port = 8000\n",
    "    server_socket = socket.socket()\n",
    "    server_socket.bind((host,port))\n",
    "    server_socket.listen()\n",
    "    \n",
    "    while (True):\n",
    "        conn,address = server_socket.accept()\n",
    "        rd = conn.recv(5000).decode()\n",
    "        print(rd)\n",
    "        \n",
    "        data = \"HTTP/1.1 200 ok\\r\\n\"\n",
    "        data += \"Content-Type: text/html; charset=utf-8\\r\\n\"\n",
    "        data += \"\\r\\n\"\n",
    "        data += \"<html><body>Hello World</body></html>\\r\\n\\r\\n\"\n",
    "        \n",
    "        conn.send(data.encode())\n",
    "    server_socket.close()\n",
    "\n",
    "print('Access http://localhost:8000')\n",
    "createserver()"
   ]
  },
  {
   "cell_type": "code",
   "execution_count": null,
   "metadata": {},
   "outputs": [],
   "source": []
  }
 ],
 "metadata": {
  "kernelspec": {
   "display_name": "Python 3",
   "language": "python",
   "name": "python3"
  },
  "language_info": {
   "codemirror_mode": {
    "name": "ipython",
    "version": 3
   },
   "file_extension": ".py",
   "mimetype": "text/x-python",
   "name": "python",
   "nbconvert_exporter": "python",
   "pygments_lexer": "ipython3",
   "version": "3.8.5"
  }
 },
 "nbformat": 4,
 "nbformat_minor": 4
}
