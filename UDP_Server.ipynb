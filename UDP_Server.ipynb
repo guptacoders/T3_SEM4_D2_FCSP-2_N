{
 "cells": [
  {
   "cell_type": "code",
   "execution_count": null,
   "metadata": {},
   "outputs": [
    {
     "name": "stdout",
     "output_type": "stream",
     "text": [
      "Recived From Client: hii\n",
      "Address: ('192.168.107.176', 60465)\n",
      "----->bol bhaii\n",
      "Recived From Client: bas jalsa\n",
      "Address: ('192.168.107.176', 60465)\n",
      "----->moj karo\n",
      "Recived From Client: hau'\n",
      "Address: ('192.168.107.176', 60465)\n",
      "----->kevu chale che\n",
      "Recived From Client: jordar\n",
      "Address: ('192.168.107.176', 60465)\n",
      "----->c\n",
      "Recived From Client: heyy\n",
      "Address: ('192.168.107.175', 51257)\n",
      "----->gteyer\n",
      "Recived From Client: lnjl\n",
      "Address: ('192.168.107.176', 60465)\n",
      "----->qghgqwui\n",
      "Recived From Client: jkhuhu\n",
      "Address: ('192.168.107.175', 51257)\n",
      "----->awwfe\n",
      "Recived From Client: gfghfh\n",
      "Address: ('192.168.107.176', 60465)\n",
      "----->tfyfgf\n",
      "Recived From Client: hello\n",
      "Address: ('192.168.107.176', 60465)\n",
      "----->jeghoqhuifbhwef\n",
      "Recived From Client: cdfdd\n",
      "Address: ('192.168.107.175', 51257)\n",
      "----->hello\n",
      "Recived From Client: oo\n",
      "Address: ('192.168.107.175', 51257)\n",
      "----->bduiqwbfi\n",
      "Recived From Client: heelo\n",
      "Address: ('192.168.107.176', 60465)\n",
      "----->\n",
      "Recived From Client: london\n",
      "Address: ('192.168.107.175', 51257)\n",
      "----->qwvbwcvb\n",
      "Recived From Client: ddd yutgy yutyu ygyuy\n",
      "Address: ('192.168.107.175', 56672)\n",
      "----->from socket import * from time import ctime HOST = '' PORT = 21567 BUFSIZ = 1024 ADDR = (HOST, PORT) udpSerSock = socket(type=SOCK_DGRAM) udpSerSock.bind(ADDR) while True: print('waiting for message...') data, addr = udpSerSock.recvfrom(BUFSIZ) print('Received ',data.decode(),' - from and returnedto:', addr) msg = input('Enter message: ') udpSerSock.sendto(msg.encode(), addr) udpSerSock.close()\n",
      "Recived From Client: jhgyh\n",
      "Address: ('192.168.107.175', 49418)\n",
      "----->💔 વિયોગ શાયરી:  એના વિના જીવન અધૂરું લાગે છે, પ્રત્યેક ક્ષણે નામ તેનું પૂરું લાગે છે...\n",
      "Recived From Client: 😴😴\n",
      "Address: ('192.168.107.175', 49418)\n",
      "----->💥💝💘💔💕💞💓💗💖\n",
      "Recived From Client: 💑\n",
      "Address: ('192.168.107.175', 49418)\n",
      "----->(●'◡'●)(❁´◡`❁)☆*: .｡. o(≧▽≦)o .｡.:*☆(*/ω＼*)^_^(┬┬﹏┬┬)(╯°□°）╯︵ ┻━┻༼ つ ◕_◕ ༽つ(☞ﾟヮﾟ)☞☜(ﾟヮﾟ☜)( •_•)>⌐■-■\n",
      "Recived From Client: 👙\n",
      "Address: ('192.168.107.175', 49418)\n",
      "----->⭕❓♻🧐🤪🤪🤪🤪🤪\n",
      "Recived From Client: 🍆\n",
      "Address: ('192.168.107.175', 49418)\n"
     ]
    }
   ],
   "source": [
    "# Server Side Program\n",
    "import socket\n",
    "\n",
    "host = socket.gethostname()\n",
    "port = 21567\n",
    "\n",
    "server_socket = socket.socket(type = socket.SOCK_DGRAM)\n",
    "\n",
    "server_socket.bind((host,port))\n",
    "\n",
    "while(True):\n",
    "    data,addr = server_socket.recvfrom(1024)\n",
    "    print(\"Recived From Client: \"+data.decode())\n",
    "    print(\"Address: \"+str(addr))\n",
    "    \n",
    "    message = input(\"----->\")\n",
    "    server_socket.sendto(message.encode(),addr)\n",
    "server_socket.close()"
   ]
  },
  {
   "cell_type": "code",
   "execution_count": null,
   "metadata": {},
   "outputs": [],
   "source": []
  }
 ],
 "metadata": {
  "kernelspec": {
   "display_name": "Python 3",
   "language": "python",
   "name": "python3"
  },
  "language_info": {
   "codemirror_mode": {
    "name": "ipython",
    "version": 3
   },
   "file_extension": ".py",
   "mimetype": "text/x-python",
   "name": "python",
   "nbconvert_exporter": "python",
   "pygments_lexer": "ipython3",
   "version": "3.8.5"
  }
 },
 "nbformat": 4,
 "nbformat_minor": 4
}
