{
 "cells": [
  {
   "cell_type": "code",
   "execution_count": null,
   "metadata": {},
   "outputs": [],
   "source": [
    "# Client Side Program\n",
    "import socket\n",
    "\n",
    "host = socket.gethostname()\n",
    "port = 21567\n",
    "\n",
    "client_socket = socket.socket(type = socket.SOCK_DGRAM)\n",
    "\n",
    "while(True):\n",
    "    message = input(\"----->\")\n",
    "    if not message:\n",
    "        break\n",
    "    client_socket.sendto(message.encode(),(host,port))\n",
    "    data , addr = client_socket.recvfrom(1024)\n",
    "    \n",
    "    if not data:\n",
    "        break\n",
    "    else:\n",
    "        print(\"Recived From Server: \"+data.decode())\n",
    "        \n",
    "client_socket.close()"
   ]
  },
  {
   "cell_type": "code",
   "execution_count": null,
   "metadata": {},
   "outputs": [],
   "source": []
  }
 ],
 "metadata": {
  "kernelspec": {
   "display_name": "Python 3",
   "language": "python",
   "name": "python3"
  },
  "language_info": {
   "codemirror_mode": {
    "name": "ipython",
    "version": 3
   },
   "file_extension": ".py",
   "mimetype": "text/x-python",
   "name": "python",
   "nbconvert_exporter": "python",
   "pygments_lexer": "ipython3",
   "version": "3.8.5"
  }
 },
 "nbformat": 4,
 "nbformat_minor": 4
}
